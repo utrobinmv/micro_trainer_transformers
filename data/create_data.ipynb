{
 "cells": [
  {
   "cell_type": "code",
   "execution_count": 2,
   "id": "c97057fc-0b0f-48a0-be0f-bc3f49c17056",
   "metadata": {},
   "outputs": [
    {
     "data": {
      "application/vnd.jupyter.widget-view+json": {
       "model_id": "97c504757b564dcbb370b9f280fdb96d",
       "version_major": 2,
       "version_minor": 0
      },
      "text/plain": [
       "  0%|          | 0/8 [00:00<?, ?it/s]"
      ]
     },
     "metadata": {},
     "output_type": "display_data"
    },
    {
     "name": "stdout",
     "output_type": "stream",
     "text": [
      "Осталось предложений: 71558064\n",
      "Осталось предложений: 71554426\n",
      "Осталось предложений: 71550854\n",
      "Осталось предложений: 71547229\n",
      "Осталось предложений: 71543569\n",
      "Осталось предложений: 70681488\n",
      "Осталось предложений: 70410976\n",
      "Осталось предложений: 70407941\n",
      "Осталось предложений: 70125813\n",
      "Осталось предложений: 70034796\n",
      "Осталось предложений: 69676589\n",
      "Осталось предложений: 69611104\n",
      "Осталось предложений: 69571887\n",
      "Осталось предложений: 69530317\n",
      "Осталось предложений: 69379965\n",
      "Осталось предложений: 69370897\n",
      "Осталось предложений: 69370897\n",
      "Осталось предложений: 69370897\n",
      "Осталось предложений: 69370897\n",
      "Осталось предложений: 69370897\n",
      "Осталось предложений: 69370897\n",
      "Осталось предложений: 69370897\n",
      "Осталось предложений: 69370897\n",
      "Осталось предложений: 69370897\n",
      "Осталось предложений: 69370897\n",
      "Осталось предложений: 69370897\n",
      "Осталось предложений: 69370897\n"
     ]
    },
    {
     "ename": "KeyboardInterrupt",
     "evalue": "",
     "output_type": "error",
     "traceback": [
      "\u001b[0;31m---------------------------------------------------------------------------\u001b[0m",
      "\u001b[0;31mKeyboardInterrupt\u001b[0m                         Traceback (most recent call last)",
      "Cell \u001b[0;32mIn[2], line 11\u001b[0m\n\u001b[1;32m      6\u001b[0m \u001b[38;5;66;03m# data_dir = '/share/datasets_bin/en_ru_zh_translate_corpus_freq_2'\u001b[39;00m\n\u001b[1;32m      7\u001b[0m \u001b[38;5;66;03m# rd_val = ReadDS(data_dir,'val',max_input_length)\u001b[39;00m\n\u001b[1;32m      8\u001b[0m \u001b[38;5;66;03m# print(len(rd_val))\u001b[39;00m\n\u001b[1;32m     10\u001b[0m data_dir \u001b[38;5;241m=\u001b[39m \u001b[38;5;124m'\u001b[39m\u001b[38;5;124m/share/datasets_bin/en_ru_zh_translate_corpus_freq_2\u001b[39m\u001b[38;5;124m'\u001b[39m\n\u001b[0;32m---> 11\u001b[0m rd_val \u001b[38;5;241m=\u001b[39m \u001b[43mFixLenFastReadDS\u001b[49m\u001b[43m(\u001b[49m\u001b[43mdata_dir\u001b[49m\u001b[43m,\u001b[49m\u001b[38;5;124;43m'\u001b[39;49m\u001b[38;5;124;43mtrain\u001b[39;49m\u001b[38;5;124;43m'\u001b[39;49m\u001b[43m,\u001b[49m\u001b[43mmax_input_length\u001b[49m\u001b[43m,\u001b[49m\u001b[43mtokenizer\u001b[49m\u001b[43m)\u001b[49m\n\u001b[1;32m     12\u001b[0m \u001b[38;5;28mprint\u001b[39m(\u001b[38;5;28mlen\u001b[39m(rd_val))\n\u001b[1;32m     13\u001b[0m \u001b[38;5;28mprint\u001b[39m(rd_val[\u001b[38;5;241m2\u001b[39m])\n",
      "File \u001b[0;32m~/code/t5_scratch_en_ru_zh/data/read_data_fast.py:87\u001b[0m, in \u001b[0;36mFixLenFastReadDS.__init__\u001b[0;34m(self, data_dir, part, max_len, tokenizer)\u001b[0m\n\u001b[1;32m     85\u001b[0m list_keys \u001b[38;5;241m=\u001b[39m \u001b[38;5;28mlist\u001b[39m(dict_langs[lang]\u001b[38;5;241m.\u001b[39mkeys())\n\u001b[1;32m     86\u001b[0m \u001b[38;5;28;01mfor\u001b[39;00m part \u001b[38;5;129;01min\u001b[39;00m list_keys:\n\u001b[0;32m---> 87\u001b[0m     \u001b[38;5;28;01mif\u001b[39;00m \u001b[38;5;28mlen\u001b[39m(dict_langs[lang][\u001b[43mpart\u001b[49m]) \u001b[38;5;241m==\u001b[39m \u001b[38;5;241m0\u001b[39m:\n\u001b[1;32m     88\u001b[0m         dict_langs[lang]\u001b[38;5;241m.\u001b[39mpop(part)\n\u001b[1;32m     89\u001b[0m     \u001b[38;5;28;01melse\u001b[39;00m:\n",
      "\u001b[0;31mKeyboardInterrupt\u001b[0m: "
     ]
    }
   ],
   "source": [
    "from transformers import T5Tokenizer\n",
    "from read_data_fast import FixLenFastReadDS\n",
    "\n",
    "max_input_length = 200\n",
    "tokenizer = T5Tokenizer.from_pretrained('/data/tokenizers/tokenizer_t5_en_ru_zh_65000', max_len=max_input_length)\n",
    "# data_dir = '/share/datasets_bin/en_ru_zh_translate_corpus_freq_2'\n",
    "# rd_val = ReadDS(data_dir,'val',max_input_length)\n",
    "# print(len(rd_val))\n",
    "\n",
    "data_dir = '/share/datasets_bin/en_ru_zh_translate_corpus_freq_2'\n",
    "rd_val = FixLenFastReadDS(data_dir,'train',max_input_length,tokenizer)\n",
    "print(len(rd_val))\n",
    "print(rd_val[2])\n"
   ]
  },
  {
   "cell_type": "code",
   "execution_count": null,
   "id": "a27dcaca-a233-474d-9fc3-eb492769a3ed",
   "metadata": {},
   "outputs": [],
   "source": []
  }
 ],
 "metadata": {
  "kernelspec": {
   "display_name": "Python 3 (ipykernel)",
   "language": "python",
   "name": "python3"
  },
  "language_info": {
   "codemirror_mode": {
    "name": "ipython",
    "version": 3
   },
   "file_extension": ".py",
   "mimetype": "text/x-python",
   "name": "python",
   "nbconvert_exporter": "python",
   "pygments_lexer": "ipython3",
   "version": "3.9.5"
  }
 },
 "nbformat": 4,
 "nbformat_minor": 5
}
