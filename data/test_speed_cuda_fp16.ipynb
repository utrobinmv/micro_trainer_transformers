{
 "cells": [
  {
   "cell_type": "code",
   "execution_count": 1,
   "id": "9284cead-4ece-4175-867d-1e02e8776b9a",
   "metadata": {},
   "outputs": [],
   "source": [
    "#!pip install torchvision==0.15.2"
   ]
  },
  {
   "cell_type": "code",
   "execution_count": 2,
   "id": "6d5d58c9-e565-49c3-9605-75bbe3081a87",
   "metadata": {},
   "outputs": [
    {
     "name": "stdout",
     "output_type": "stream",
     "text": [
      "FP32 Iterations per second:  10.764462980130123\n"
     ]
    }
   ],
   "source": [
    "import time\n",
    "\n",
    "import torch\n",
    "from torch.autograd import Variable\n",
    "import torchvision.models as models\n",
    "\n",
    "import torch.backends.cudnn as cudnn\n",
    "cudnn.benchmark = True\n",
    "\n",
    "net = models.resnet18().cuda()\n",
    "inp = torch.randn(64, 3, 224, 224).cuda()\n",
    "\n",
    "for i in range(5):\n",
    "    net.zero_grad()\n",
    "    out = net.forward(Variable(inp, requires_grad=True))\n",
    "    loss = out.sum()\n",
    "    loss.backward()\n",
    "\n",
    "torch.cuda.synchronize()\n",
    "start=time.time()\n",
    "for i in range(100):\n",
    "    net.zero_grad()\n",
    "    out = net.forward(Variable(inp, requires_grad=True))\n",
    "    loss = out.sum()\n",
    "    loss.backward()\n",
    "torch.cuda.synchronize()\n",
    "end=time.time()\n",
    "\n",
    "print(\"FP32 Iterations per second: \", 100/(end-start))\n"
   ]
  },
  {
   "cell_type": "code",
   "execution_count": 3,
   "id": "bee7a196-f15e-44bd-97e8-c6bf652e6c9c",
   "metadata": {},
   "outputs": [
    {
     "name": "stdout",
     "output_type": "stream",
     "text": [
      "FP16 Iterations per second:  17.314585234074038\n"
     ]
    }
   ],
   "source": [
    "\n",
    "net = models.resnet18().cuda().half()\n",
    "inp = torch.randn(64, 3, 224, 224).cuda().half()\n",
    "\n",
    "torch.cuda.synchronize()\n",
    "start=time.time()\n",
    "for i in range(100):\n",
    "    net.zero_grad()\n",
    "    out = net.forward(Variable(inp, requires_grad=True))\n",
    "    loss = out.sum()\n",
    "    loss.backward()\n",
    "torch.cuda.synchronize()\n",
    "end=time.time()\n",
    "\n",
    "print(\"FP16 Iterations per second: \", 100/(end-start))"
   ]
  },
  {
   "cell_type": "code",
   "execution_count": null,
   "id": "5e91ab29-25d1-4d68-bd7c-5c3869e3ea16",
   "metadata": {},
   "outputs": [],
   "source": []
  }
 ],
 "metadata": {
  "kernelspec": {
   "display_name": "Python 3 (ipykernel)",
   "language": "python",
   "name": "python3"
  },
  "language_info": {
   "codemirror_mode": {
    "name": "ipython",
    "version": 3
   },
   "file_extension": ".py",
   "mimetype": "text/x-python",
   "name": "python",
   "nbconvert_exporter": "python",
   "pygments_lexer": "ipython3",
   "version": "3.9.5"
  }
 },
 "nbformat": 4,
 "nbformat_minor": 5
}
